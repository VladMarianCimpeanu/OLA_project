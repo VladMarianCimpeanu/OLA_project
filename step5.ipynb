{
 "cells": [
  {
   "cell_type": "markdown",
   "metadata": {
    "pycharm": {
     "name": "#%% md\n"
    }
   },
   "source": [
    "#Step 5\n",
    "Optimization with uncertain graph weights"
   ]
  },
  {
   "cell_type": "code",
   "execution_count": 11,
   "metadata": {
    "pycharm": {
     "name": "#%%\n"
    }
   },
   "outputs": [],
   "source": [
    "import numpy as np\n",
    "import matplotlib.pyplot as plt\n",
    "\n",
    "\n",
    "import Code.utils as utils\n",
    "import Code.environment.settings as settings\n",
    "from Code.environment.Environment import Environment\n",
    "from Code.GreedyLearner import GreedyLearner\n",
    "from Code.environment.Customer import Customer\n",
    "from Code.UCBLearner import UCBLearner\n",
    "from Code.TSLearner import TSLearner\n",
    "from Code.UCBLearner4 import UCBLearner4\n",
    "from Code.TSLearner4 import TSLearner4\n",
    "from Code.UCBLearner5 import UCBLearner5\n",
    "from Code.TSLearner5 import TSLearner5\n",
    "\n",
    "%matplotlib inline"
   ]
  },
  {
   "cell_type": "code",
   "execution_count": 12,
   "metadata": {
    "pycharm": {
     "name": "#%%\n"
    }
   },
   "outputs": [
    {
     "name": "stdout",
     "output_type": "stream",
     "text": [
      "loading: [==============================] 99.6%\n",
      " [0, 2, 0, 2, 0] 485.3619964 9.707239928\n"
     ]
    }
   ],
   "source": [
    "cust_json = \"customer_classes.json\"\n",
    "today_customer = 50\n",
    "var_cust = 0\n",
    "p_lambda = 1.0\n",
    "graph_json = \"business_full_graph.json\"\n",
    "\n",
    "arms = settings.prices\n",
    "environment = Environment(cust_json,today_customer,var_cust,p_lambda, graph_json, arms)\n",
    "clairvoyant_arms, clairvoyant_reward, exp_c, s= environment.estimate_clairvoyant()\n",
    "print(\"\\n\", clairvoyant_arms, clairvoyant_reward, exp_c)"
   ]
  },
  {
   "cell_type": "code",
   "execution_count": 13,
   "metadata": {
    "pycharm": {
     "name": "#%%\n"
    }
   },
   "outputs": [],
   "source": [
    "n_arms = 4\n",
    "n_products = 5 \n",
    "\n",
    "feature1 = 0\n",
    "feature2 = 0\n",
    "\n",
    "customer = Customer(feature1, feature2)\n",
    "\n",
    "TIME_HORIZON = 300\n",
    "NUM_ITERATION = 3"
   ]
  },
  {
   "cell_type": "code",
   "execution_count": 14,
   "metadata": {
    "pycharm": {
     "name": "#%%\n"
    }
   },
   "outputs": [],
   "source": [
    "#unknown param\n",
    "c_graph = np.zeros((n_products,n_products))\n",
    "\n",
    "customer2 = Customer(0,0, environment.get_aggregate_alphas(), environment.get_aggregate_num_prods_distribution(), click_graph=c_graph)"
   ]
  },
  {
   "cell_type": "markdown",
   "metadata": {
    "pycharm": {
     "name": "#%% md\n"
    }
   },
   "source": [
    "UCB"
   ]
  },
  {
   "cell_type": "code",
   "execution_count": 15,
   "metadata": {
    "pycharm": {
     "name": "#%%\n"
    }
   },
   "outputs": [
    {
     "name": "stdout",
     "output_type": "stream",
     "text": [
      "Iteration # 1\n",
      "loading: [                              ] 0.0%[[0.   0.   0.   0.   0.  ]\n",
      " [0.   0.   1.   0.   0.  ]\n",
      " [0.   1.   0.   0.   0.  ]\n",
      " [0.   0.   0.25 0.   0.5 ]\n",
      " [0.5  0.   0.   0.   0.  ]]\n"
     ]
    },
    {
     "ename": "AttributeError",
     "evalue": "'UCBLearner5' object has no attribute 'customer'",
     "output_type": "error",
     "traceback": [
      "\u001B[0;31m---------------------------------------------------------------------------\u001B[0m",
      "\u001B[0;31mAttributeError\u001B[0m                            Traceback (most recent call last)",
      "\u001B[0;32m<ipython-input-15-9bb50c251f7b>\u001B[0m in \u001B[0;36m<module>\u001B[0;34m()\u001B[0m\n\u001B[1;32m      8\u001B[0m         \u001B[0msuper_arm\u001B[0m \u001B[0;34m=\u001B[0m \u001B[0mucb5_learner\u001B[0m\u001B[0;34m.\u001B[0m\u001B[0mselect_superarm\u001B[0m\u001B[0;34m(\u001B[0m\u001B[0;34m)\u001B[0m\u001B[0;34m\u001B[0m\u001B[0;34m\u001B[0m\u001B[0m\n\u001B[1;32m      9\u001B[0m         \u001B[0mreport\u001B[0m \u001B[0;34m=\u001B[0m \u001B[0menvironment\u001B[0m\u001B[0;34m.\u001B[0m\u001B[0mround\u001B[0m\u001B[0;34m(\u001B[0m\u001B[0msuper_arm\u001B[0m\u001B[0;34m)\u001B[0m\u001B[0;34m\u001B[0m\u001B[0;34m\u001B[0m\u001B[0m\n\u001B[0;32m---> 10\u001B[0;31m         \u001B[0mucb5_learner\u001B[0m\u001B[0;34m.\u001B[0m\u001B[0mupdate\u001B[0m\u001B[0;34m(\u001B[0m\u001B[0msuper_arm\u001B[0m\u001B[0;34m.\u001B[0m\u001B[0mcopy\u001B[0m\u001B[0;34m(\u001B[0m\u001B[0;34m)\u001B[0m\u001B[0;34m,\u001B[0m \u001B[0mreport\u001B[0m\u001B[0;34m)\u001B[0m\u001B[0;34m\u001B[0m\u001B[0;34m\u001B[0m\u001B[0m\n\u001B[0m\u001B[1;32m     11\u001B[0m     \u001B[0mrewards\u001B[0m \u001B[0;34m=\u001B[0m \u001B[0mucb5_learner\u001B[0m\u001B[0;34m.\u001B[0m\u001B[0mhistory_rewards\u001B[0m\u001B[0;34m\u001B[0m\u001B[0;34m\u001B[0m\u001B[0m\n\u001B[1;32m     12\u001B[0m     \u001B[0mrewards_iterations\u001B[0m\u001B[0;34m.\u001B[0m\u001B[0mappend\u001B[0m\u001B[0;34m(\u001B[0m\u001B[0mnp\u001B[0m\u001B[0;34m.\u001B[0m\u001B[0marray\u001B[0m\u001B[0;34m(\u001B[0m\u001B[0mrewards\u001B[0m\u001B[0;34m)\u001B[0m\u001B[0;34m)\u001B[0m\u001B[0;34m\u001B[0m\u001B[0;34m\u001B[0m\u001B[0m\n",
      "\u001B[0;32m/home/tpoppo/Documenti/GitHub/OLA_project/Code/UCBLearner5.py\u001B[0m in \u001B[0;36mupdate\u001B[0;34m(self, pulled_arm, report)\u001B[0m\n\u001B[1;32m     20\u001B[0m \u001B[0;34m\u001B[0m\u001B[0m\n\u001B[1;32m     21\u001B[0m         \u001B[0mprint\u001B[0m\u001B[0;34m(\u001B[0m\u001B[0mself\u001B[0m\u001B[0;34m.\u001B[0m\u001B[0mestimated_graph\u001B[0m\u001B[0;34m)\u001B[0m\u001B[0;34m\u001B[0m\u001B[0;34m\u001B[0m\u001B[0m\n\u001B[0;32m---> 22\u001B[0;31m         \u001B[0mself\u001B[0m\u001B[0;34m.\u001B[0m\u001B[0mcustomer\u001B[0m\u001B[0;34m.\u001B[0m\u001B[0mset_probability_click\u001B[0m\u001B[0;34m(\u001B[0m\u001B[0mself\u001B[0m\u001B[0;34m.\u001B[0m\u001B[0mestimated_graph\u001B[0m\u001B[0;34m)\u001B[0m\u001B[0;34m\u001B[0m\u001B[0;34m\u001B[0m\u001B[0m\n\u001B[0m\u001B[1;32m     23\u001B[0m \u001B[0;34m\u001B[0m\u001B[0m\n",
      "\u001B[0;31mAttributeError\u001B[0m: 'UCBLearner5' object has no attribute 'customer'"
     ]
    }
   ],
   "source": [
    "rewards_iterations = []\n",
    "for i in range(NUM_ITERATION):\n",
    "    ucb5_learner = UCBLearner5(n_arms, n_products, environment.customers, graph_json, arms, environment.customers_distribution)\n",
    "    print('Iteration #', i+1)\n",
    "    for t in range(TIME_HORIZON):\n",
    "        if t % 10 == 0:\n",
    "            utils.progress_bar(t, TIME_HORIZON)\n",
    "        super_arm = ucb5_learner.select_superarm()\n",
    "        report = environment.round(super_arm)\n",
    "        ucb5_learner.update(super_arm.copy(), report)\n",
    "    rewards = ucb5_learner.history_rewards\n",
    "    rewards_iterations.append(np.array(rewards))\n",
    "rewards_iterations = np.array(rewards_iterations)\n",
    "rewards_iterations.shape"
   ]
  },
  {
   "cell_type": "code",
   "execution_count": null,
   "metadata": {
    "pycharm": {
     "name": "#%%\n"
    }
   },
   "outputs": [],
   "source": [
    "plt.figure(figsize=(10, 5))\n",
    "mean = np.mean(rewards_iterations, axis=0)\n",
    "stdev = np.std(rewards_iterations, axis=0)\n",
    "\n",
    "plt.plot(range(len(mean)), mean)\n",
    "plt.fill_between(range(len(mean)), (mean-stdev), (mean+stdev), color='b', alpha=.1)\n",
    "\n",
    "plt.plot([_ for _ in range(len(rewards))], [clairvoyant_reward for _ in range(len(rewards))])\n",
    "plt.show()"
   ]
  },
  {
   "cell_type": "code",
   "execution_count": null,
   "metadata": {
    "pycharm": {
     "name": "#%%\n"
    }
   },
   "outputs": [],
   "source": [
    "plt.figure(figsize=(8,5))\n",
    "regret = clairvoyant_reward - rewards_iterations \n",
    "mean_regret = np.mean(regret, axis=0)\n",
    "\n",
    "plt.plot(range(len(mean_regret)), mean_regret)\n",
    "plt.show()"
   ]
  },
  {
   "cell_type": "code",
   "execution_count": null,
   "metadata": {
    "pycharm": {
     "name": "#%%\n"
    }
   },
   "outputs": [],
   "source": [
    "plt.figure(figsize=(8,5))\n",
    "regret = clairvoyant_reward - rewards_iterations \n",
    "cumulative_regret = np.cumsum(regret, axis=1)\n",
    "cum_reg_mean = np.mean(cumulative_regret, axis=0)\n",
    "\n",
    "plt.plot(range(len(cum_reg_mean)), cum_reg_mean)\n",
    "plt.show()"
   ]
  },
  {
   "cell_type": "markdown",
   "metadata": {
    "pycharm": {
     "name": "#%% md\n"
    }
   },
   "source": [
    "TS"
   ]
  },
  {
   "cell_type": "code",
   "execution_count": null,
   "metadata": {
    "pycharm": {
     "name": "#%%\n"
    }
   },
   "outputs": [],
   "source": [
    "rewards_iterations = []\n",
    "for i in range(NUM_ITERATION):\n",
    "    ts5_learner = TSLearner5(n_arms, n_products, customer2, graph_json, arms)\n",
    "    print('\\nIteration #', i+1)\n",
    "    for t in range(TIME_HORIZON):\n",
    "        if t % 10 == 0:\n",
    "            utils.progress_bar(t, TIME_HORIZON)\n",
    "        super_arm = ts5_learner.select_superarm()\n",
    "        report = environment.round(super_arm)\n",
    "        ts5_learner.update(super_arm.copy(), report)\n",
    "    rewards = ts5_learner.history_rewards\n",
    "    rewards_iterations.append(np.array(rewards))\n",
    "rewards_iterations = np.array(rewards_iterations)\n",
    "rewards_iterations.shape"
   ]
  },
  {
   "cell_type": "code",
   "execution_count": null,
   "metadata": {
    "pycharm": {
     "name": "#%%\n"
    }
   },
   "outputs": [],
   "source": [
    "plt.figure(figsize=(10, 5))\n",
    "mean = np.mean(rewards_iterations, axis=0)\n",
    "stdev = np.std(rewards_iterations, axis=0)\n",
    "\n",
    "plt.plot(range(len(mean)), mean)\n",
    "plt.fill_between(range(len(mean)), (mean-stdev), (mean+stdev), color='b', alpha=.1)\n",
    "\n",
    "plt.plot([_ for _ in range(len(rewards))], [clairvoyant_reward for _ in range(len(rewards))])\n",
    "plt.show()"
   ]
  },
  {
   "cell_type": "code",
   "execution_count": null,
   "metadata": {
    "pycharm": {
     "name": "#%%\n"
    }
   },
   "outputs": [],
   "source": [
    "plt.figure(figsize=(8,5))\n",
    "regret = clairvoyant_reward - rewards_iterations \n",
    "mean_regret = np.mean(regret, axis=0)\n",
    "\n",
    "plt.plot(range(len(mean_regret)), mean_regret)\n",
    "plt.show()"
   ]
  },
  {
   "cell_type": "code",
   "execution_count": null,
   "metadata": {
    "pycharm": {
     "name": "#%%\n"
    }
   },
   "outputs": [],
   "source": [
    "plt.figure(figsize=(8,5))\n",
    "regret = clairvoyant_reward - rewards_iterations \n",
    "cumulative_regret = np.cumsum(regret, axis=1)\n",
    "cum_reg_mean = np.mean(cumulative_regret, axis=0)\n",
    "\n",
    "plt.plot(range(len(cum_reg_mean)), cum_reg_mean)\n",
    "plt.show()"
   ]
  },
  {
   "cell_type": "code",
   "execution_count": null,
   "metadata": {
    "pycharm": {
     "name": "#%%\n"
    }
   },
   "outputs": [],
   "source": []
  }
 ],
 "metadata": {
  "kernelspec": {
   "display_name": "Python 3",
   "language": "python",
   "name": "python3"
  },
  "language_info": {
   "codemirror_mode": {
    "name": "ipython",
    "version": 3
   },
   "file_extension": ".py",
   "mimetype": "text/x-python",
   "name": "python",
   "nbconvert_exporter": "python",
   "pygments_lexer": "ipython3",
   "version": "3.8.8"
  },
  "vscode": {
   "interpreter": {
    "hash": "88111df7ceb694484cfc97bdede811386554c3a33448f1f5a98428024008916c"
   }
  }
 },
 "nbformat": 4,
 "nbformat_minor": 2
}