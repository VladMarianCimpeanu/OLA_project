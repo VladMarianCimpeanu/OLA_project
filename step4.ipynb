{
 "cells": [
  {
   "cell_type": "markdown",
   "metadata": {},
   "source": [
    "#Step 4 \n",
    "Optimization with uncertain conversion rates, 𝛼 ratios, and number of items sold per product"
   ]
  },
  {
   "cell_type": "code",
   "execution_count": 1,
   "metadata": {},
   "outputs": [],
   "source": [
    "import numpy as np\n",
    "import matplotlib.pyplot as plt\n",
    "\n",
    "\n",
    "import Code.utils as utils\n",
    "import Code.environment.settings as settings\n",
    "from Code.environment.Environment import Environment\n",
    "from Code.GreedyLearner import GreedyLearner\n",
    "from Code.environment.Customer import Customer\n",
    "from Code.UCBLearner import UCBLearner\n",
    "from Code.TSLearner import TSLearner\n",
    "from Code.UCBLearner4 import UCBLearner4\n",
    "from Code.TSLearner4 import TSLearner4\n",
    "\n",
    "%matplotlib inline"
   ]
  },
  {
   "cell_type": "code",
   "execution_count": null,
   "metadata": {},
   "outputs": [],
   "source": [
    "cust_json = \"customer_classes.json\"\n",
    "today_customer = 50\n",
    "var_cust = 0\n",
    "p_lambda = 1.0\n",
    "graph_json = \"business_full_graph.json\"\n",
    "\n",
    "arms = settings.prices\n",
    "environment = Environment(cust_json,today_customer,var_cust,p_lambda, graph_json, arms)\n",
    "clairvoyant_arms, clairvoyant_reward, exp_c, rew_per_arm= environment.estimate_clairvoyant()\n",
    "print(\"\\n\", clairvoyant_arms, clairvoyant_reward, exp_c, rew_per_arm.values())"
   ]
  },
  {
   "cell_type": "code",
   "execution_count": 3,
   "metadata": {},
   "outputs": [
    {
     "name": "stdout",
     "output_type": "stream",
     "text": [
      "loading: [========================      ] 80.0%"
     ]
    },
    {
     "data": {
      "text/plain": [
       "(1, 50)"
      ]
     },
     "execution_count": 3,
     "metadata": {},
     "output_type": "execute_result"
    }
   ],
   "source": [
    "n_arms = 4\n",
    "n_products = 5 \n",
    "\n",
    "feature1 = 0\n",
    "feature2 = 0\n",
    "\n",
    "customer = Customer(feature1, feature2)\n",
    "\n",
    "TIME_HORIZON = 50\n",
    "NUM_ITERATION = 1"
   ]
  },
  {
   "cell_type": "code",
   "execution_count": 4,
   "metadata": {},
   "outputs": [],
   "source": [
    "#unknown parameters\n",
    "alphas = np.array([0.2, 0.2, 0.2, 0.2, 0.2]) #uniform\n",
    "prods_dist = np.ones((n_products,n_arms))   #all 1\n",
    "\n",
    "\n",
    "customer = Customer(0,0, alpha = alphas, num_prods_distribution= prods_dist, click_graph = environment.get_aggregate_click_graph())"
   ]
  },
  {
   "cell_type": "markdown",
   "metadata": {},
   "source": [
    "UCB"
   ]
  },
  {
   "cell_type": "code",
   "execution_count": 5,
   "metadata": {},
   "outputs": [
    {
     "name": "stdout",
     "output_type": "stream",
     "text": [
      "Iteration # 1\n",
      "loading: [                              ] 0.0%customer alpha: [0.3 0.2 0.2 0.1 0.2]\n"
     ]
    },
    {
     "name": "stderr",
     "output_type": "stream",
     "text": [
      "/Users/sofia/Desktop/UNI/Quarto Anno/Secondo semestre/OLA/OLA_project/Code/MC_simulator.py:36: RuntimeWarning: divide by zero encountered in double_scalars\n",
      "  ans[primary] = 1 / c.num_prods_distributions[primary][super_arm[primary]]\n"
     ]
    },
    {
     "name": "stdout",
     "output_type": "stream",
     "text": [
      "customer alpha: [0.26 0.24 0.24 0.1  0.16]\n",
      "customer alpha: [0.3  0.19 0.19 0.14 0.18]\n",
      "customer alpha: [0.31333333 0.18666667 0.15333333 0.12       0.22666667]\n",
      "customer alpha: [0.3   0.195 0.15  0.13  0.225]\n",
      "customer alpha: [0.288 0.196 0.16  0.128 0.228]\n",
      "customer alpha: [0.28       0.19       0.17       0.13333333 0.22666667]\n",
      "customer alpha: [0.28       0.18285714 0.17428571 0.13428571 0.22857143]\n",
      "customer alpha: [0.3075 0.1825 0.1625 0.1325 0.215 ]\n",
      "customer alpha: [0.31111111 0.18444444 0.16666667 0.13111111 0.20666667]\n",
      "loading: [======                        ] 20.0%customer alpha: [0.31  0.178 0.176 0.124 0.212]\n",
      "customer alpha: [0.30181818 0.17818182 0.18181818 0.12       0.21818182]\n",
      "customer alpha: [0.30166667 0.175      0.17666667 0.115      0.23166667]\n",
      "customer alpha: [0.30153846 0.17692308 0.17692308 0.11538462 0.22923077]\n",
      "customer alpha: [0.30714286 0.17285714 0.18285714 0.11571429 0.22142857]\n",
      "customer alpha: [0.31466667 0.17466667 0.17733333 0.11466667 0.21866667]\n",
      "customer alpha: [0.315   0.175   0.185   0.10875 0.21625]\n",
      "customer alpha: [0.30470588 0.18       0.18705882 0.11411765 0.21411765]\n",
      "customer alpha: [0.30222222 0.17555556 0.19333333 0.11333333 0.21555556]\n",
      "customer alpha: [0.30315789 0.18105263 0.19052632 0.11263158 0.21263158]\n",
      "loading: [============                  ] 40.0%customer alpha: [0.302 0.188 0.193 0.112 0.205]\n",
      "customer alpha: [0.30285714 0.18761905 0.2        0.10952381 0.2       ]\n",
      "customer alpha: [0.3        0.19       0.19363636 0.10909091 0.20727273]\n",
      "customer alpha: [0.2973913  0.19304348 0.19304348 0.11043478 0.20608696]\n",
      "customer alpha: [0.29583333 0.19416667 0.19666667 0.10833333 0.205     ]\n",
      "customer alpha: [0.292 0.196 0.2   0.108 0.204]\n",
      "customer alpha: [0.29307692 0.19769231 0.19923077 0.10692308 0.20307692]\n",
      "customer alpha: [0.29185185 0.19777778 0.20074074 0.10740741 0.20222222]\n",
      "customer alpha: [0.29285714 0.19857143 0.19928571 0.10642857 0.20285714]\n",
      "customer alpha: [0.29103448 0.2        0.19793103 0.10482759 0.2062069 ]\n",
      "loading: [==================            ] 60.0%customer alpha: [0.28933333 0.20066667 0.198      0.10466667 0.20733333]\n",
      "customer alpha: [0.2883871  0.19935484 0.20129032 0.10451613 0.20645161]\n",
      "customer alpha: [0.29     0.201875 0.2      0.105    0.203125]\n",
      "customer alpha: [0.29272727 0.20242424 0.19939394 0.10363636 0.20181818]\n",
      "customer alpha: [0.29176471 0.20117647 0.20117647 0.10470588 0.20117647]\n",
      "customer alpha: [0.29257143 0.20228571 0.2        0.10457143 0.20057143]\n",
      "customer alpha: [0.29055556 0.20333333 0.20166667 0.10222222 0.20222222]\n",
      "customer alpha: [0.28864865 0.20648649 0.20054054 0.10108108 0.20324324]\n",
      "customer alpha: [0.28842105 0.20473684 0.20157895 0.10105263 0.20421053]\n",
      "customer alpha: [0.28769231 0.20358974 0.20205128 0.10205128 0.20461538]\n",
      "loading: [========================      ] 80.0%customer alpha: [0.285 0.205 0.203 0.102 0.205]\n",
      "customer alpha: [0.28634146 0.20341463 0.20487805 0.10243902 0.20292683]\n",
      "customer alpha: [0.28619048 0.20285714 0.2052381  0.10238095 0.20333333]\n",
      "customer alpha: [0.28651163 0.20511628 0.20372093 0.10232558 0.20232558]\n",
      "customer alpha: [0.28818182 0.20318182 0.20454545 0.10181818 0.20227273]\n",
      "customer alpha: [0.29066667 0.20311111 0.20311111 0.10222222 0.20088889]\n",
      "customer alpha: [0.29173913 0.20217391 0.20521739 0.10086957 0.2       ]\n",
      "customer alpha: [0.29446809 0.20170213 0.20595745 0.1        0.19787234]\n",
      "customer alpha: [0.29375    0.20125    0.20625    0.09916667 0.19958333]\n",
      "customer alpha: [0.29346939 0.20204082 0.20367347 0.10040816 0.20040816]\n"
     ]
    },
    {
     "data": {
      "text/plain": [
       "(1, 50)"
      ]
     },
     "execution_count": 5,
     "metadata": {},
     "output_type": "execute_result"
    }
   ],
   "source": [
    "rewards_iterations = []\n",
    "for i in range(NUM_ITERATION):\n",
    "    ucb4_learner = UCBLearner4(n_arms, n_products, customer, graph_json, arms)\n",
    "    print('Iteration #', i+1)\n",
    "    for t in range(TIME_HORIZON):\n",
    "        if t % 10 == 0:\n",
    "            utils.progress_bar(t, TIME_HORIZON)\n",
    "        super_arm = ucb4_learner.select_superarm()\n",
    "        report = environment.round(super_arm)\n",
    "        ucb4_learner.update(super_arm.copy(), report)\n",
    "    rewards = ucb4_learner.history_rewards\n",
    "    rewards_iterations.append(np.array(rewards))\n",
    "rewards_iterations = np.array(rewards_iterations)\n",
    "rewards_iterations.shape"
   ]
  },
  {
   "cell_type": "code",
   "execution_count": null,
   "metadata": {},
   "outputs": [],
   "source": [
    "plt.figure(figsize=(10, 5))\n",
    "mean = np.mean(rewards_iterations, axis=0)\n",
    "stdev = np.std(rewards_iterations, axis=0)\n",
    "\n",
    "plt.plot(range(len(mean)), mean)\n",
    "plt.fill_between(range(len(mean)), (mean-stdev), (mean+stdev), color='b', alpha=.1)\n",
    "\n",
    "plt.plot([_ for _ in range(len(rewards))], [clairvoyant_reward for _ in range(len(rewards))])\n",
    "plt.show()"
   ]
  },
  {
   "cell_type": "code",
   "execution_count": null,
   "metadata": {},
   "outputs": [],
   "source": [
    "plt.figure(figsize=(8,5))\n",
    "regret = clairvoyant_reward - rewards_iterations \n",
    "mean_regret = np.mean(regret, axis=0)\n",
    "\n",
    "plt.plot(range(len(mean_regret)), mean_regret)\n",
    "plt.show()"
   ]
  },
  {
   "cell_type": "code",
   "execution_count": null,
   "metadata": {},
   "outputs": [],
   "source": [
    "plt.figure(figsize=(8,5))\n",
    "regret = clairvoyant_reward - rewards_iterations \n",
    "cumulative_regret = np.cumsum(regret, axis=1)\n",
    "cum_reg_mean = np.mean(cumulative_regret, axis=0)\n",
    "\n",
    "plt.plot(range(len(cum_reg_mean)), cum_reg_mean)\n",
    "plt.show()"
   ]
  },
  {
   "cell_type": "markdown",
   "metadata": {},
   "source": [
    "TS"
   ]
  },
  {
   "cell_type": "code",
   "execution_count": 6,
   "metadata": {},
   "outputs": [
    {
     "name": "stdout",
     "output_type": "stream",
     "text": [
      "\n",
      "Iteration # 1\n",
      "loading: [========================      ] 80.0%"
     ]
    },
    {
     "data": {
      "text/plain": [
       "(1, 50)"
      ]
     },
     "execution_count": 6,
     "metadata": {},
     "output_type": "execute_result"
    }
   ],
   "source": [
    "rewards_iterations = []\n",
    "for i in range(NUM_ITERATION):\n",
    "    ts_learner4 = TSLearner4(n_arms, n_products, customer, graph_json, arms)\n",
    "    print('\\nIteration #', i+1)\n",
    "    for t in range(TIME_HORIZON):\n",
    "        if t % 10 == 0:\n",
    "            utils.progress_bar(t, TIME_HORIZON)\n",
    "        super_arm = ts_learner4.select_superarm()\n",
    "        report = environment.round(super_arm)\n",
    "        ts_learner4.update(super_arm.copy(), report)\n",
    "    rewards = ts_learner4.history_rewards\n",
    "    rewards_iterations.append(np.array(rewards))\n",
    "rewards_iterations = np.array(rewards_iterations)\n",
    "rewards_iterations.shape"
   ]
  },
  {
   "cell_type": "code",
   "execution_count": null,
   "metadata": {},
   "outputs": [],
   "source": [
    "plt.figure(figsize=(10, 5))\n",
    "mean = np.mean(rewards_iterations, axis=0)\n",
    "stdev = np.std(rewards_iterations, axis=0)\n",
    "\n",
    "plt.plot(range(len(mean)), mean)\n",
    "plt.fill_between(range(len(mean)), (mean-stdev), (mean+stdev), color='b', alpha=.1)\n",
    "\n",
    "plt.plot([_ for _ in range(len(rewards))], [clairvoyant_reward for _ in range(len(rewards))])\n",
    "plt.show()"
   ]
  },
  {
   "cell_type": "code",
   "execution_count": null,
   "metadata": {},
   "outputs": [],
   "source": [
    "plt.figure(figsize=(8,5))\n",
    "regret = clairvoyant_reward - rewards_iterations \n",
    "mean_regret = np.mean(regret, axis=0)\n",
    "\n",
    "plt.plot(range(len(mean_regret)), mean_regret)\n",
    "plt.show()"
   ]
  },
  {
   "cell_type": "code",
   "execution_count": null,
   "metadata": {},
   "outputs": [],
   "source": [
    "plt.figure(figsize=(8,5))\n",
    "regret = clairvoyant_reward - rewards_iterations \n",
    "cumulative_regret = np.cumsum(regret, axis=1)\n",
    "cum_reg_mean = np.mean(cumulative_regret, axis=0)\n",
    "\n",
    "plt.plot(range(len(cum_reg_mean)), cum_reg_mean)\n",
    "plt.show()"
   ]
  }
 ],
 "metadata": {
  "kernelspec": {
   "display_name": "Python 3.8.8 ('base')",
   "language": "python",
   "name": "python3"
  },
  "language_info": {
   "codemirror_mode": {
    "name": "ipython",
    "version": 3
   },
   "file_extension": ".py",
   "mimetype": "text/x-python",
   "name": "python",
   "nbconvert_exporter": "python",
   "pygments_lexer": "ipython3",
   "version": "3.8.8"
  },
  "orig_nbformat": 4,
  "vscode": {
   "interpreter": {
    "hash": "88111df7ceb694484cfc97bdede811386554c3a33448f1f5a98428024008916c"
   }
  }
 },
 "nbformat": 4,
 "nbformat_minor": 2
}
