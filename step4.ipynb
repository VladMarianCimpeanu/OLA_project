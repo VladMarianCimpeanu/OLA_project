{
 "cells": [
  {
   "cell_type": "markdown",
   "metadata": {
    "pycharm": {
     "name": "#%% md\n"
    }
   },
   "source": [
    "#Step 4 \n",
    "Optimization with uncertain conversion rates, 𝛼 ratios, and number of items sold per product"
   ]
  },
  {
   "cell_type": "code",
   "execution_count": 1,
   "metadata": {
    "pycharm": {
     "name": "#%%\n"
    }
   },
   "outputs": [],
   "source": [
    "import copy\n",
    "\n",
    "import numpy as np\n",
    "import matplotlib.pyplot as plt\n",
    "\n",
    "\n",
    "import Code.utils as utils\n",
    "import Code.environment.settings as settings\n",
    "from Code.environment.Environment import Environment\n",
    "from Code.GreedyLearner import GreedyLearner\n",
    "from Code.environment.Customer import Customer\n",
    "from Code.UCBLearner import UCBLearner\n",
    "from Code.TSLearner import TSLearner\n",
    "from Code.UCBLearner4 import UCBLearner4\n",
    "from Code.TSLearner4v2 import TSLearner4\n",
    "\n",
    "%matplotlib inline"
   ]
  },
  {
   "cell_type": "code",
   "execution_count": 2,
   "metadata": {
    "pycharm": {
     "name": "#%%\n"
    }
   },
   "outputs": [
    {
     "name": "stdout",
     "output_type": "stream",
     "text": [
      "loading: [                              ] 0.0%\n",
      "loading: [=                             ] 1.0%\n",
      "loading: [=                             ] 2.0%\n",
      "loading: [=                             ] 2.9%\n",
      "loading: [==                            ] 3.9%\n",
      "loading: [==                            ] 4.9%\n",
      "loading: [==                            ] 5.9%\n",
      "loading: [===                           ] 6.8%\n",
      "loading: [===                           ] 7.8%\n",
      "loading: [===                           ] 8.8%\n",
      "loading: [===                           ] 9.8%\n",
      "loading: [====                          ] 10.7%\n",
      "loading: [====                          ] 11.7%\n",
      "loading: [====                          ] 12.7%\n",
      "loading: [=====                         ] 13.7%\n",
      "loading: [=====                         ] 14.6%\n",
      "loading: [=====                         ] 15.6%\n",
      "loading: [=====                         ] 16.6%\n",
      "loading: [======                        ] 17.6%\n",
      "loading: [======                        ] 18.6%\n",
      "loading: [======                        ] 19.5%\n",
      "loading: [=======                       ] 20.5%\n",
      "loading: [=======                       ] 21.5%\n",
      "loading: [=======                       ] 22.5%\n",
      "loading: [========                      ] 23.4%\n",
      "loading: [========                      ] 24.4%\n",
      "loading: [========                      ] 25.4%\n",
      "loading: [========                      ] 26.4%\n",
      "loading: [=========                     ] 27.3%\n",
      "loading: [=========                     ] 28.3%\n",
      "loading: [=========                     ] 29.3%\n",
      "loading: [==========                    ] 30.3%\n",
      "loading: [==========                    ] 31.2%\n",
      "loading: [==========                    ] 32.2%\n",
      "loading: [==========                    ] 33.2%\n",
      "loading: [===========                   ] 34.2%\n",
      "loading: [===========                   ] 35.2%\n",
      "loading: [===========                   ] 36.1%\n",
      "loading: [============                  ] 37.1%\n",
      "loading: [============                  ] 38.1%\n",
      "loading: [============                  ] 39.1%\n",
      "loading: [=============                 ] 40.0%\n",
      "loading: [=============                 ] 41.0%\n",
      "loading: [=============                 ] 42.0%\n",
      "loading: [=============                 ] 43.0%\n",
      "loading: [==============                ] 43.9%\n",
      "loading: [==============                ] 44.9%\n",
      "loading: [==============                ] 45.9%\n",
      "loading: [===============               ] 46.9%\n",
      "loading: [===============               ] 47.9%\n",
      "loading: [===============               ] 48.8%\n",
      "loading: [===============               ] 49.8%\n",
      "loading: [================              ] 50.8%\n",
      "loading: [================              ] 51.8%\n",
      "loading: [================              ] 52.7%\n",
      "loading: [=================             ] 53.7%\n",
      "loading: [=================             ] 54.7%\n",
      "loading: [=================             ] 55.7%\n",
      "loading: [=================             ] 56.6%\n",
      "loading: [==================            ] 57.6%\n",
      "loading: [==================            ] 58.6%\n",
      "loading: [==================            ] 59.6%\n",
      "loading: [===================           ] 60.5%\n",
      "loading: [===================           ] 61.5%\n",
      "loading: [===================           ] 62.5%\n",
      "loading: [====================          ] 63.5%\n",
      "loading: [====================          ] 64.5%\n",
      "loading: [====================          ] 65.4%\n",
      "loading: [====================          ] 66.4%\n",
      "loading: [=====================         ] 67.4%\n",
      "loading: [=====================         ] 68.4%\n",
      "loading: [=====================         ] 69.3%\n",
      "loading: [======================        ] 70.3%\n",
      "loading: [======================        ] 71.3%\n",
      "loading: [======================        ] 72.3%\n",
      "loading: [======================        ] 73.2%\n",
      "loading: [=======================       ] 74.2%\n",
      "loading: [=======================       ] 75.2%\n",
      "loading: [=======================       ] 76.2%\n",
      "loading: [========================      ] 77.1%\n",
      "loading: [========================      ] 78.1%\n",
      "loading: [========================      ] 79.1%\n",
      "loading: [=========================     ] 80.1%\n",
      "loading: [=========================     ] 81.1%\n",
      "loading: [=========================     ] 82.0%\n",
      "loading: [=========================     ] 83.0%\n",
      "loading: [==========================    ] 84.0%\n",
      "loading: [==========================    ] 85.0%\n",
      "loading: [==========================    ] 85.9%\n",
      "loading: [===========================   ] 86.9%\n",
      "loading: [===========================   ] 87.9%\n",
      "loading: [===========================   ] 88.9%\n",
      "loading: [===========================   ] 89.8%\n",
      "loading: [============================  ] 90.8%\n",
      "loading: [============================  ] 91.8%\n",
      "loading: [============================  ] 92.8%\n",
      "loading: [============================= ] 93.8%\n",
      "loading: [============================= ] 94.7%\n",
      "loading: [============================= ] 95.7%\n",
      "loading: [==============================] 96.7%\n",
      "loading: [==============================] 97.7%\n",
      "loading: [==============================] 98.6%\n",
      "loading: [==============================] 99.6%\n",
      "\n",
      " [2, 3, 1, 1, 2] 6261.759007130805 41.7450600475387\n"
     ]
    }
   ],
   "source": [
    "cust_json = \"customer3.json\"\n",
    "today_customer = 150\n",
    "var_cust = 5\n",
    "p_lambda = 1.0\n",
    "graph_json = \"business_full_graph2.json\"\n",
    "\n",
    "arms = settings.prices\n",
    "environment = Environment(cust_json,today_customer,var_cust,p_lambda, graph_json, arms)\n",
    "clairvoyant_arms, clairvoyant_reward, exp_c, rew_per_arm= environment.estimate_clairvoyant()\n",
    "print(\"\\n\", clairvoyant_arms, clairvoyant_reward, exp_c)"
   ]
  },
  {
   "cell_type": "code",
   "execution_count": 3,
   "metadata": {
    "pycharm": {
     "name": "#%%\n"
    }
   },
   "outputs": [],
   "source": [
    "n_arms = 4\n",
    "n_products = 5 \n",
    "\n",
    "feature1 = 0\n",
    "feature2 = 0\n",
    "\n",
    "customer = Customer(feature1, feature2)\n",
    "\n",
    "TIME_HORIZON = 300\n",
    "NUM_ITERATION = 5"
   ]
  },
  {
   "cell_type": "code",
   "execution_count": 4,
   "metadata": {
    "pycharm": {
     "name": "#%%\n"
    }
   },
   "outputs": [],
   "source": [
    "#unknown parameters\n",
    "alphas = np.array([0.2, 0.2, 0.2, 0.2, 0.2]) #uniform\n",
    "prods_dist = np.ones((n_products,n_arms))   #all 1\n",
    "\n",
    "customers = copy.deepcopy(environment.customers)\n",
    "\n",
    "for customer in customers:\n",
    "    customer.set_distribution_alpha(alphas)\n",
    "    customer.set_num_prods(prods_dist)"
   ]
  },
  {
   "cell_type": "markdown",
   "metadata": {
    "pycharm": {
     "name": "#%% md\n"
    }
   },
   "source": [
    "UCB"
   ]
  },
  {
   "cell_type": "code",
   "execution_count": null,
   "metadata": {
    "pycharm": {
     "name": "#%%\n"
    }
   },
   "outputs": [
    {
     "name": "stdout",
     "output_type": "stream",
     "text": [
      "Iteration # 1\n",
      "loading: [                              ] 0.0%\n",
      "loading: [=                             ] 3.3%\n",
      "loading: [==                            ] 6.7%\n",
      "loading: [===                           ] 10.0%\n",
      "loading: [====                          ] 13.3%\n",
      "loading: [=====                         ] 16.7%\n",
      "loading: [======                        ] 20.0%\n",
      "loading: [=======                       ] 23.3%\n",
      "loading: [========                      ] 26.7%\n",
      "loading: [=========                     ] 30.0%\n",
      "loading: [==========                    ] 33.3%\n",
      "loading: [===========                   ] 36.7%\n",
      "loading: [============                  ] 40.0%\n",
      "loading: [=============                 ] 43.3%\n",
      "loading: [==============                ] 46.7%\n",
      "loading: [===============               ] 50.0%\n",
      "loading: [================              ] 53.3%\n",
      "loading: [=================             ] 56.7%\n",
      "loading: [==================            ] 60.0%\n",
      "loading: [===================           ] 63.3%\n",
      "loading: [====================          ] 66.7%\n",
      "loading: [=====================         ] 70.0%\n",
      "loading: [======================        ] 73.3%\n",
      "loading: [=======================       ] 76.7%\n",
      "loading: [========================      ] 80.0%\n",
      "loading: [==========================    ] 83.3%\n",
      "loading: [==========================    ] 86.7%\n",
      "loading: [===========================   ] 90.0%\n",
      "loading: [============================  ] 93.3%\n",
      "loading: [============================= ] 96.7%\n",
      "Iteration # 2\n",
      "loading: [                              ] 0.0%\n",
      "loading: [=                             ] 3.3%\n",
      "loading: [==                            ] 6.7%\n",
      "loading: [===                           ] 10.0%\n",
      "loading: [====                          ] 13.3%\n",
      "loading: [=====                         ] 16.7%\n",
      "loading: [======                        ] 20.0%\n",
      "loading: [=======                       ] 23.3%\n",
      "loading: [========                      ] 26.7%\n",
      "loading: [=========                     ] 30.0%\n",
      "loading: [==========                    ] 33.3%\n",
      "loading: [===========                   ] 36.7%\n",
      "loading: [============                  ] 40.0%\n",
      "loading: [=============                 ] 43.3%\n",
      "loading: [==============                ] 46.7%\n",
      "loading: [===============               ] 50.0%\n",
      "loading: [================              ] 53.3%\n",
      "loading: [=================             ] 56.7%\n",
      "loading: [==================            ] 60.0%\n",
      "loading: [===================           ] 63.3%\n",
      "loading: [====================          ] 66.7%\n",
      "loading: [=====================         ] 70.0%\n",
      "loading: [======================        ] 73.3%\n",
      "loading: [=======================       ] 76.7%\n",
      "loading: [========================      ] 80.0%\n",
      "loading: [==========================    ] 83.3%\n",
      "loading: [==========================    ] 86.7%\n",
      "loading: [===========================   ] 90.0%\n",
      "loading: [============================  ] 93.3%\n",
      "loading: [============================= ] 96.7%\n",
      "Iteration # 3\n",
      "loading: [                              ] 0.0%\n",
      "loading: [=                             ] 3.3%\n",
      "loading: [==                            ] 6.7%\n",
      "loading: [===                           ] 10.0%\n",
      "loading: [====                          ] 13.3%\n",
      "loading: [=====                         ] 16.7%\n",
      "loading: [======                        ] 20.0%\n",
      "loading: [=======                       ] 23.3%\n",
      "loading: [========                      ] 26.7%\n",
      "loading: [=========                     ] 30.0%\n",
      "loading: [==========                    ] 33.3%\n",
      "loading: [===========                   ] 36.7%\n",
      "loading: [============                  ] 40.0%\n",
      "loading: [=============                 ] 43.3%\n",
      "loading: [==============                ] 46.7%\n",
      "loading: [===============               ] 50.0%\n",
      "loading: [================              ] 53.3%\n",
      "loading: [=================             ] 56.7%\n",
      "loading: [==================            ] 60.0%\n",
      "loading: [===================           ] 63.3%\n",
      "loading: [====================          ] 66.7%\n",
      "loading: [=====================         ] 70.0%\n",
      "loading: [======================        ] 73.3%\n",
      "loading: [=======================       ] 76.7%\n",
      "loading: [========================      ] 80.0%\n",
      "loading: [==========================    ] 83.3%\n",
      "loading: [==========================    ] 86.7%\n",
      "loading: [===========================   ] 90.0%\n",
      "loading: [============================  ] 93.3%\n",
      "loading: [============================= ] 96.7%\n",
      "Iteration # 4\n",
      "loading: [                              ] 0.0%\n"
     ]
    }
   ],
   "source": [
    "rewards_iterations = []\n",
    "for i in range(NUM_ITERATION):\n",
    "    ucb4_learner = UCBLearner4(n_arms, n_products, customers, graph_json, arms, environment.customers_distribution, debug=False)\n",
    "    print('Iteration #', i+1)\n",
    "    for t in range(TIME_HORIZON):\n",
    "        if t % 10 == 0:\n",
    "            utils.progress_bar(t, TIME_HORIZON)\n",
    "        super_arm = ucb4_learner.select_superarm()\n",
    "        report = environment.round(super_arm)\n",
    "        ucb4_learner.update(super_arm.copy(), report)\n",
    "    rewards = ucb4_learner.history_rewards\n",
    "    rewards_iterations.append(np.array(rewards))\n",
    "rewards_iterations = np.array(rewards_iterations)\n",
    "rewards_iterations.shape"
   ]
  },
  {
   "cell_type": "code",
   "execution_count": null,
   "metadata": {
    "pycharm": {
     "name": "#%%\n"
    }
   },
   "outputs": [],
   "source": [
    "plt.figure(figsize=(10,5))\n",
    "mean = np.mean(rewards_iterations, axis=0)\n",
    "stdev = np.std(rewards_iterations, axis=0)\n",
    "\n",
    "plt.plot(range(len(mean)), mean)\n",
    "plt.fill_between(range(len(mean)), (mean-stdev), (mean+stdev), color='b', alpha=.1)\n",
    "\n",
    "plt.plot([_ for _ in range(len(rewards))], [clairvoyant_reward for _ in range(len(rewards))])\n",
    "plt.show()"
   ]
  },
  {
   "cell_type": "code",
   "execution_count": null,
   "metadata": {
    "pycharm": {
     "name": "#%%\n"
    }
   },
   "outputs": [],
   "source": [
    "plt.figure(figsize=(10,5))\n",
    "regret = clairvoyant_reward - rewards_iterations \n",
    "mean_regret = np.mean(regret, axis=0)\n",
    "std_regret = np.std(regret, axis=0)\n",
    "\n",
    "plt.plot(range(len(mean_regret)), mean_regret)\n",
    "plt.fill_between(range(len(mean_regret)), (mean_regret-std_regret), (mean_regret+std_regret), color='b', alpha=.1)\n",
    "\n",
    "plt.show()"
   ]
  },
  {
   "cell_type": "code",
   "execution_count": null,
   "metadata": {
    "pycharm": {
     "name": "#%%\n"
    }
   },
   "outputs": [],
   "source": [
    "plt.figure(figsize=(10,5))\n",
    "regret = clairvoyant_reward - rewards_iterations \n",
    "cumulative_regret = np.cumsum(regret, axis=1)\n",
    "cum_reg_mean = np.mean(cumulative_regret, axis=0)\n",
    "cum_reg_std = np.std(cumulative_regret, axis=0)\n",
    "\n",
    "plt.plot(range(len(cum_reg_mean)), cum_reg_mean)\n",
    "plt.fill_between(range(len(cum_reg_mean)), (cum_reg_mean-cum_reg_std), (cum_reg_mean+cum_reg_std), color='b', alpha=.1)\n",
    "\n",
    "plt.show()"
   ]
  },
  {
   "cell_type": "markdown",
   "metadata": {
    "pycharm": {
     "name": "#%% md\n"
    }
   },
   "source": [
    "TS"
   ]
  },
  {
   "cell_type": "code",
   "execution_count": null,
   "metadata": {},
   "outputs": [],
   "source": [
    "#unknown parameters\n",
    "alphas = np.array([0.2, 0.2, 0.2, 0.2, 0.2]) #uniform\n",
    "prods_dist = np.ones((n_products,n_arms))   #all 1\n",
    "\n",
    "customers = copy.deepcopy(environment.customers)\n",
    "\n",
    "for customer in customers:\n",
    "    customer.set_distribution_alpha(alphas)\n",
    "    customer.set_num_prods(prods_dist)"
   ]
  },
  {
   "cell_type": "code",
   "execution_count": null,
   "metadata": {
    "pycharm": {
     "name": "#%%\n"
    }
   },
   "outputs": [],
   "source": [
    "rewards_iterations = []\n",
    "for i in range(NUM_ITERATION):\n",
    "    ts_learner4 = TSLearner4(n_arms, n_products, customers, graph_json, arms, environment.customers_distribution)\n",
    "    print('\\nIteration #', i+1)\n",
    "    for t in range(TIME_HORIZON):\n",
    "        if t % 10 == 0:\n",
    "            utils.progress_bar(t, TIME_HORIZON)\n",
    "        super_arm = ts_learner4.select_superarm()\n",
    "        report = environment.round(super_arm)\n",
    "        ts_learner4.update(super_arm.copy(), report)\n",
    "    rewards = ts_learner4.history_rewards\n",
    "    rewards_iterations.append(np.array(rewards))\n",
    "rewards_iterations = np.array(rewards_iterations)\n",
    "rewards_iterations.shape"
   ]
  },
  {
   "cell_type": "code",
   "execution_count": null,
   "metadata": {
    "pycharm": {
     "name": "#%%\n"
    }
   },
   "outputs": [],
   "source": [
    "plt.figure(figsize=(10,5))\n",
    "mean = np.mean(rewards_iterations, axis=0)\n",
    "stdev = np.std(rewards_iterations, axis=0)\n",
    "\n",
    "plt.plot(range(len(mean)), mean)\n",
    "plt.fill_between(range(len(mean)), (mean-stdev), (mean+stdev), color='b', alpha=.1)\n",
    "\n",
    "plt.plot([_ for _ in range(len(rewards))], [clairvoyant_reward for _ in range(len(rewards))])\n",
    "plt.show()"
   ]
  },
  {
   "cell_type": "code",
   "execution_count": null,
   "metadata": {
    "pycharm": {
     "name": "#%%\n"
    }
   },
   "outputs": [],
   "source": [
    "plt.figure(figsize=(10,5))\n",
    "regret = clairvoyant_reward - rewards_iterations \n",
    "mean_regret = np.mean(regret, axis=0)\n",
    "std_regret = np.std(regret, axis=0)\n",
    "\n",
    "plt.plot(range(len(mean_regret)), mean_regret)\n",
    "plt.fill_between(range(len(mean_regret)), (mean_regret-std_regret), (mean_regret+std_regret), color='b', alpha=.1)\n",
    "plt.show()"
   ]
  },
  {
   "cell_type": "code",
   "execution_count": null,
   "metadata": {
    "pycharm": {
     "name": "#%%\n"
    }
   },
   "outputs": [],
   "source": [
    "plt.figure(figsize=(10,5))\n",
    "regret = clairvoyant_reward - rewards_iterations \n",
    "cumulative_regret = np.cumsum(regret, axis=1)\n",
    "cum_reg_mean = np.mean(cumulative_regret, axis=0)\n",
    "cum_regret_std = np.std(cumulative_regret, axis=0)\n",
    "\n",
    "plt.plot(range(len(cum_reg_mean)), cum_reg_mean)\n",
    "plt.fill_between(range(len(cum_reg_mean)), (cum_reg_mean-cum_reg_std), (cum_reg_mean+cum_reg_std), color='b', alpha=.1)\n",
    "plt.show()"
   ]
  },
  {
   "cell_type": "code",
   "execution_count": null,
   "metadata": {},
   "outputs": [],
   "source": [
    "th_rews = list(rew_per_arm.values())\n",
    "th_rews.sort()\n",
    "delta_arms = (th_rews[-1] - th_rews[-2]) / today_customer\n",
    "seen = np.array(ts_learner4.history_interactions)\n",
    "theoretical_regret = 1024 * np.log(seen)/delta_arms"
   ]
  },
  {
   "cell_type": "code",
   "execution_count": null,
   "metadata": {},
   "outputs": [],
   "source": [
    "plt.plot(range(len(cum_reg_mean)), cum_reg_mean)\n",
    "plt.fill_between(range(len(cum_reg_mean)), (cum_reg_mean-cum_reg_std), (cum_reg_mean+cum_reg_std), color='b', alpha=.1)\n",
    "plt.plot(range(len(theoretical_regret)), theoretical_regret)\n",
    "plt.show()"
   ]
  }
 ],
 "metadata": {
  "kernelspec": {
   "display_name": "Python 3",
   "language": "python",
   "name": "python3"
  },
  "language_info": {
   "codemirror_mode": {
    "name": "ipython",
    "version": 3
   },
   "file_extension": ".py",
   "mimetype": "text/x-python",
   "name": "python",
   "nbconvert_exporter": "python",
   "pygments_lexer": "ipython3",
   "version": "3.8.8"
  },
  "vscode": {
   "interpreter": {
    "hash": "88111df7ceb694484cfc97bdede811386554c3a33448f1f5a98428024008916c"
   }
  }
 },
 "nbformat": 4,
 "nbformat_minor": 2
}
