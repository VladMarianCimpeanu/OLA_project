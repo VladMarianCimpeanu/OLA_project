{
 "cells": [
  {
   "cell_type": "code",
   "execution_count": 1,
   "metadata": {},
   "outputs": [],
   "source": [
    "from Code import *\n",
    "from Code.environment import *\n",
    "from Code.data import *\n",
    "\n",
    "from Code.environment.Environment import Environment"
   ]
  },
  {
   "cell_type": "code",
   "execution_count": 2,
   "metadata": {},
   "outputs": [],
   "source": [
    "cust_json = \"customer_classes.json\"\n",
    "today_customer = 100\n",
    "var_cust = 10\n",
    "p_lambda = 0.5\n",
    "graph_json = \"business_full_graph.json\"\n",
    "\n",
    "environment = Environment(cust_json,today_customer,var_cust,p_lambda, graph_json)"
   ]
  },
  {
   "cell_type": "code",
   "execution_count": 3,
   "metadata": {},
   "outputs": [],
   "source": [
    "from Code.GreedyLearner import GreedyLearner\n",
    "from Code.environment.Customer import Customer"
   ]
  },
  {
   "cell_type": "code",
   "execution_count": 6,
   "metadata": {},
   "outputs": [],
   "source": [
    "import numpy as np"
   ]
  },
  {
   "cell_type": "code",
   "execution_count": 11,
   "metadata": {},
   "outputs": [
    {
     "name": "stdout",
     "output_type": "stream",
     "text": [
      "[[6.47169757 6.47169757 6.47169757 6.47169757]\n",
      " [6.47169757 6.47169757 6.47169757 6.47169757]\n",
      " [6.47169757 6.47169757 6.47169757 6.47169757]\n",
      " [6.47169757 6.47169757 6.47169757 6.47169757]\n",
      " [6.47169757 6.47169757 6.47169757 6.47169757]]\n"
     ]
    },
    {
     "ename": "TypeError",
     "evalue": "__init__() takes 5 positional arguments but 6 were given",
     "output_type": "error",
     "traceback": [
      "\u001b[0;31m---------------------------------------------------------------------------\u001b[0m",
      "\u001b[0;31mTypeError\u001b[0m                                 Traceback (most recent call last)",
      "\u001b[0;32m<ipython-input-11-e8b8b8589a42>\u001b[0m in \u001b[0;36m<module>\u001b[0;34m\u001b[0m\n\u001b[1;32m     10\u001b[0m \u001b[0mprint\u001b[0m\u001b[0;34m(\u001b[0m\u001b[0marms\u001b[0m\u001b[0;34m)\u001b[0m\u001b[0;34m\u001b[0m\u001b[0;34m\u001b[0m\u001b[0m\n\u001b[1;32m     11\u001b[0m \u001b[0;34m\u001b[0m\u001b[0m\n\u001b[0;32m---> 12\u001b[0;31m \u001b[0mgr_learner\u001b[0m \u001b[0;34m=\u001b[0m \u001b[0mGreedyLearner\u001b[0m\u001b[0;34m(\u001b[0m\u001b[0mn_arms\u001b[0m\u001b[0;34m,\u001b[0m \u001b[0mn_products\u001b[0m\u001b[0;34m,\u001b[0m \u001b[0mcustomer\u001b[0m\u001b[0;34m,\u001b[0m \u001b[0mgraph_json\u001b[0m\u001b[0;34m,\u001b[0m \u001b[0marms\u001b[0m\u001b[0;34m)\u001b[0m\u001b[0;34m\u001b[0m\u001b[0;34m\u001b[0m\u001b[0m\n\u001b[0m",
      "\u001b[0;31mTypeError\u001b[0m: __init__() takes 5 positional arguments but 6 were given"
     ]
    }
   ],
   "source": [
    "n_arms = 4\n",
    "n_products = 5 \n",
    "\n",
    "feature1 = 0\n",
    "feature2 = 0\n",
    "\n",
    "customer = Customer(feature1, feature2)\n",
    "\n",
    "arms = np.full((n_products,n_arms),np.random.uniform(0,10))\n",
    "print(arms)\n",
    "\n",
    "gr_learner = GreedyLearner(n_arms, n_products, customer, graph_json, arms)"
   ]
  }
 ],
 "metadata": {
  "interpreter": {
   "hash": "88111df7ceb694484cfc97bdede811386554c3a33448f1f5a98428024008916c"
  },
  "kernelspec": {
   "display_name": "Python 3.8.8 ('base')",
   "language": "python",
   "name": "python3"
  },
  "language_info": {
   "codemirror_mode": {
    "name": "ipython",
    "version": 3
   },
   "file_extension": ".py",
   "mimetype": "text/x-python",
   "name": "python",
   "nbconvert_exporter": "python",
   "pygments_lexer": "ipython3",
   "version": "3.8.8"
  },
  "orig_nbformat": 4
 },
 "nbformat": 4,
 "nbformat_minor": 2
}
